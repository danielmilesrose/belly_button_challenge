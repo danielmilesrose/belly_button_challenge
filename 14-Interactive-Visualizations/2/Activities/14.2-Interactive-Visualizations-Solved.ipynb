{
 "cells": [
  {
   "cell_type": "markdown",
   "metadata": {},
   "source": [
    "@channel **Hi Everyone,**"
   ]
  },
  {
   "cell_type": "markdown",
   "metadata": {},
   "source": [
    "**2023-12-05 `14.2-Interactive-Visualizations-Functional Programing for Data Processing`**"
   ]
  },
  {
   "cell_type": "markdown",
   "metadata": {},
   "source": [
    "So we have been introduced to JavaScript, hopefully you are using the fundamental skills and practice we have picked up throughout the course and are simply learning new syntax now.\n",
    "\n",
    "We are going to add some new JavaScript capabilities in the next class.\n",
    "\n",
    "Map() will give us the ability to create new arrays from JSON objects!\n",
    "\n",
    "This will be super useful down the road.\n",
    "\n",
    "We are going to learn how to filter data read into JavaScript using the .filter() function (not as straightforward as it looks).\n",
    "\n",
    "Then we are going to learn a syntactical shortcut called an \"arrow\" function.\n",
    "\n",
    "Looking forward to seeing you there!"
   ]
  },
  {
   "cell_type": "markdown",
   "metadata": {},
   "source": [
    "**Objectives**\n",
    "\n",
    "* Apply the `map()` method and filter to parse data.\n",
    "* Create and use `arrow functions` to simplify code.\n",
    "* Use the `filter()` and arrow functions to manipulate and filter datasets.\n",
    "* Use `ES6` JavaScript methods."
   ]
  },
  {
   "cell_type": "markdown",
   "metadata": {},
   "source": [
    "**Presentation**\n",
    "* [14.2-Functional Programing for Data Processing](https://git.bootcampcontent.com/University-of-California---Berkeley/UCB-VIRT-DATA-PT-08-2023-U-LOLC/-/blob/main/Slides/Data-14.2-Functional_Programing_for_Data_Processing.pdf)\n"
   ]
  },
  {
   "cell_type": "markdown",
   "metadata": {},
   "source": [
    "**Resources**\n",
    "* [Map Tutorial](https://www.w3schools.com/jsref/jsref_map.asp)\n",
    "* [Filter tutorial](https://www.w3schools.com/jsref/jsref_filter.asp)\n",
    "* [Arrow Function discussion](https://www.w3schools.com/js/js_arrow_function.asp)\n",
    "* [Javascript Sorting](https://www.w3schools.com/jsref/jsref_sort.asp)\n",
    "* [JavaScript slicing](https://www.w3schools.com/jsref/jsref_slice_string.asp)"
   ]
  },
  {
   "cell_type": "markdown",
   "metadata": {},
   "source": [
    "**Best wishes.**"
   ]
  },
  {
   "cell_type": "markdown",
   "metadata": {},
   "source": [
    "# =========================================="
   ]
  },
  {
   "cell_type": "markdown",
   "metadata": {},
   "source": [
    "### 1.01 Instructor Do: Map Method & Arrow Functions (15 min)"
   ]
  },
  {
   "cell_type": "markdown",
   "metadata": {
    "tags": []
   },
   "source": [
    "\n",
    "```js\n",
    "let theStagesOfJS = [\"confidence\", \"sadness\", \"confusion\", \"realization\", \"debugging\", \"satisfaction\"];\n",
    "\n",
    "console.log(theStagesOfJS)\n",
    "\n",
    "// Using the .map method to create an array\n",
    "let mapSimpleArray = theStagesOfJS.map(function(item) {\n",
    "  return item;\n",
    "});\n",
    "\n",
    "console.log(\"Map:\", mapSimpleArray);\n",
    "\n",
    "// Map will also provide the index position of the array.\n",
    "// This is similar to enumerate in Python.\n",
    "let mapArrayWithIndex = theStagesOfJS.map(function(item, index) {\n",
    "  return `Stage ${index}: ${item}`;\n",
    "});\n",
    "\n",
    "console.log(\"Map With Index:\", mapArrayWithIndex);\n",
    "\n",
    "// Note: The original array is unchanged\n",
    "console.log(\"Original:\", theStagesOfJS);\n",
    "\n",
    "// Mapping over an array of objects\n",
    "let students = [\n",
    "    { name: \"Malcolm\", score: 80 },\n",
    "    { name: \"Zoe\", score: 85 },\n",
    "    { name: \"Kaylee\", score: 99 },\n",
    "    { name: \"Simon\", score: 99 },\n",
    "    { name: \"Wash\", score: 79 }\n",
    "];\n",
    "\n",
    "let names = students.map(function(student) {\n",
    "  return student.name;\n",
    "});\n",
    "\n",
    "console.log(\"Names:\", names)\n",
    "\n",
    "// An Arrow function is a new concise syntax for functions\n",
    "// Arrow functions allow us to drop the `function` keyword and just show the parameters.\n",
    "// Note: The fat arrow `=>` that was added to indicate an arrow function.\n",
    "let mapArrow1 = theStagesOfJS.map((item) => {\n",
    "    return item;\n",
    "});\n",
    "  \n",
    "console.log(\"Arrow1:\", mapArrow1);\n",
    "\n",
    "// And we can drop the `return` keyword. The return is implied.\n",
    "let mapArrow2 = theStagesOfJS.map(item => item);\n",
    "\n",
    "console.log(\"Arrow2:\", mapArrow2);\n",
    "\n",
    "// We can also provide the index position of the array.\n",
    "let mapArrow3 = theStagesOfJS.map((item, index) => `Stage ${index}: ${item}`);\n",
    "\n",
    "console.log(\"Arrow3:\", mapArrow3);\n",
    "```"
   ]
  },
  {
   "cell_type": "markdown",
   "metadata": {},
   "source": [
    "# =========================================="
   ]
  },
  {
   "cell_type": "markdown",
   "metadata": {},
   "source": [
    "### 1.02 Students Do: Mapping (15 min)"
   ]
  },
  {
   "cell_type": "markdown",
   "metadata": {},
   "source": [
    "# Mapping\n",
    "In this activity, you will create arrays using the `map` function with the following heroines dataset:\n",
    "```javascript\n",
    "heroines = [\n",
    "    { name: \"Rapunzel\", age: 18 },\n",
    "    { name: \"Mulan\", age: 16 },\n",
    "    { name: \"Anna\", age: 18 },\n",
    "    { name: \"Moana\", age: 16 }\n",
    "  ];\n",
    "```\n",
    "## Instructions\n",
    "* Use the starter files `index.html` and `map.js` provided in the [Unsolved](Unsolved) folder.\n",
    "* Create an array of just the names from the heroines array.\n",
    "* Create an array of strings for each heroine’s name, followed by a colon, followed by their age.\n",
    "## Bonus\n",
    "Create the array of strings using an arrow function instead.\n",
    "## Hint\n",
    "Don't forget to use dot notation to access the values for the object keys.\n",
    "\n",
    "---"
   ]
  },
  {
   "cell_type": "markdown",
   "metadata": {
    "jp-MarkdownHeadingCollapsed": true,
    "tags": []
   },
   "source": [
    "```js\n",
    "let heroines = [\n",
    "    { name: \"Rapunzel\", age: 18 },\n",
    "    { name: \"Mulan\", age: 16 },\n",
    "    { name: \"Anna\", age: 18 },\n",
    "    { name: \"Moana\", age: 16 }\n",
    "  ];\n",
    "\n",
    "// Create an array of just the names from the heroines array\n",
    "let names = heroines.map(function(heroine) {\n",
    "return heroine.name;\n",
    "});\n",
    "console.log(\"Names:\", names);\n",
    "\n",
    "// Create an array of strings for each heroine's name, follow by a colon, followed by their age\n",
    "let namesAndAges = heroines.map(function(heroine) {\n",
    "return `${heroine.name}: ${heroine.age}`;\n",
    "});\n",
    "console.log(\"Names and Ages:\", namesAndAges);\n",
    "\n",
    "// Create the same array of strings but with a single line arrow function.\n",
    "let namesAndAgesArrow = heroines.map(heroine => `${heroine.name}: ${heroine.age}`);\n",
    "\n",
    "console.log(\"Names and Ages:\", namesAndAgesArrow);\n",
    "\n",
    "```"
   ]
  },
  {
   "cell_type": "markdown",
   "metadata": {},
   "source": [
    "# =========================================="
   ]
  },
  {
   "cell_type": "markdown",
   "metadata": {},
   "source": [
    "### 1.03 Students Do: Mapping with Plotly (15 min)"
   ]
  },
  {
   "cell_type": "markdown",
   "metadata": {},
   "source": [
    "# Mapping with Plotly\n",
    "In this activity, you will create an array of Greek god search results using the `map` function with the [data.js](Unsolved/data.js) dataset.\n",
    "## Instructions\n",
    "* You may use the starter files `index.html` and `plots.js` provided in the [Unsolved](Unsolved) folder.\n",
    "* Create an array of Greek god names from the [data.js](Unsolved/data.js) dataset.\n",
    "* Create an array of Greek god search results from the [data.js](Unsolved/data.js) dataset.\n",
    "* Create a Plotly bar chart with names on the x-axis and search results on the y-axis, like this:\n",
    "![Greek Mapping](03_Stu_Greek_Mapping/Images/greek_map.png)\n",
    "* Include a title on the plot.\n",
    "## Hint\n",
    "Open the console to see the dataset stored in the variable `data`.\n",
    "## Reference\n",
    "Search results retrieved on December 1, 2021 from https://www.google.com.\n",
    "\n",
    "---"
   ]
  },
  {
   "cell_type": "markdown",
   "metadata": {
    "tags": []
   },
   "source": [
    "```js\n",
    "console.log(searchResults);\n",
    "\n",
    "// Greek god names\n",
    "let names = searchResults.map(function (row){\n",
    "  return row.greekName\n",
    "});\n",
    "\n",
    "// Trace for the Greek Data\n",
    "let trace1 = {\n",
    "    x: searchResults.map(row => row.greekName),\n",
    "    y: searchResults.map(row => row.greekSearchResults),\n",
    "    type: \"bar\"\n",
    "  };\n",
    "\n",
    "// Data trace array\n",
    "let data = [trace1];\n",
    "\n",
    "// Apply a title to the layout\n",
    "let layout = {\n",
    "  title: \"Greek gods search results\"\n",
    "};\n",
    "\n",
    "// Render the plot to the div tag with id \"plot\"\n",
    "Plotly.newPlot(\"plot\", data, layout);\n",
    "\n",
    "```"
   ]
  },
  {
   "cell_type": "markdown",
   "metadata": {},
   "source": [
    "# =========================================="
   ]
  },
  {
   "cell_type": "markdown",
   "metadata": {},
   "source": [
    "### 1.04 Instructor Do: Filter Method (15 min)"
   ]
  },
  {
   "cell_type": "markdown",
   "metadata": {
    "tags": []
   },
   "source": [
    "```js\n",
    "// An array of objects, representing a cartoon family\n",
    "let simpsons = [{\n",
    "  name: \"Homer\",\n",
    "  age: 45\n",
    "}, {\n",
    "  name: \"Lisa\",\n",
    "  age: 8\n",
    "}, {\n",
    "  name: \"Marge\",\n",
    "  age: 43\n",
    "}, {\n",
    "  name: \"Bart\",\n",
    "  age: 10\n",
    "}, {\n",
    "  name: \"Maggie\",\n",
    "  age: 1\n",
    "}];\n",
    "\n",
    "// Create a custom filtering function\n",
    "function selectYounger(person) {\n",
    "  return person.age < 30;\n",
    "}\n",
    "\n",
    "// filter() uses the custom function as its argument\n",
    "let youngSimpsons = simpsons.filter(selectYounger);\n",
    "\n",
    "// Print to console\n",
    "console.log(youngSimpsons);\n",
    "```"
   ]
  },
  {
   "cell_type": "markdown",
   "metadata": {},
   "source": [
    "# =========================================="
   ]
  },
  {
   "cell_type": "markdown",
   "metadata": {},
   "source": [
    "### 1.05 Students Do: Filtering (10 min)"
   ]
  },
  {
   "cell_type": "markdown",
   "metadata": {},
   "source": [
    "# Filtering\n",
    "In this activity, you will create a custom function by using `filter()` to return the players who made the team, according to the `roster` dataset. Then, you’ll use that filtered data to determine how many players made the cut.\n",
    "## Instructions\n",
    "* Use the starter files `index.html` and `filter.js` provided in the [Unsolved](Unsolved) folder.\n",
    "* Create a custom function to return players who made the team.\n",
    "* Determine how many players made the cut.\n",
    "\n",
    "---"
   ]
  },
  {
   "cell_type": "markdown",
   "metadata": {
    "tags": []
   },
   "source": [
    "```js\n",
    "// An array of objects\n",
    "let roster = [{\n",
    "  name: \"Doug\",\n",
    "  position: \"Quarterback\",\n",
    "  madeTeam: true\n",
    "},\n",
    "{\n",
    "  name: \"Antonio\",\n",
    "  position: \"Tight End\",\n",
    "  madeTeam: true\n",
    "},\n",
    "{\n",
    "  name: \"Nick\",\n",
    "  position: \"Kicker\",\n",
    "  madeTeam: false\n",
    "},\n",
    "{\n",
    "  name: \"Ereck\",\n",
    "  position: \"Offensive Live\",\n",
    "  madeTeam: false\n",
    "},\n",
    "{\n",
    "  name: \"AJ\",\n",
    "  position: \"Line Backer\",\n",
    "  madeTeam: true\n",
    "}\n",
    "];\n",
    " \n",
    "// Create a custom function to return players who made the team\n",
    "function madeCut(player) {\n",
    "  // return player.madeTeam == true;\n",
    "  // A more concise way to express a boolean conditional\n",
    "  return player.madeTeam;\n",
    "}\n",
    "\n",
    "// Call the custom function with filter()\n",
    "let playersOnTeam = roster.filter(madeCut);\n",
    "\n",
    "// Display the results\n",
    "console.log(playersOnTeam);\n",
    "\n",
    "// Determine how many players made the cut\n",
    "let numberOfPlayers = playersOnTeam.length;\n",
    "\n",
    "// Display the results\n",
    "console.log(`${numberOfPlayers} players made the team.`);\n",
    "```"
   ]
  },
  {
   "cell_type": "markdown",
   "metadata": {},
   "source": [
    "# =========================================="
   ]
  },
  {
   "cell_type": "markdown",
   "metadata": {},
   "source": [
    "### 1.06 Students Do: Filtering with Plotly (15 min)"
   ]
  },
  {
   "cell_type": "markdown",
   "metadata": {},
   "source": [
    "# Filtering with Plotly\n",
    "In this activity, you will create an array of popular Roman god search results by using the `filter` function with the [data.js](Unsolved/data.js) dataset.\n",
    "## Instructions\n",
    "* You may use the starter files `index.html` and `plots.js` provided in the [Unsolved](Unsolved) folder.\n",
    "* Create a custom function to return Roman gods with more than 100 million search results.\n",
    "* Create an array of Roman god names from the filtered data.\n",
    "* Create an array of Roman god search results from the filtered data.\n",
    "* Create a Plotly bar chart with names on the x-axis and search results on the y-axis. For example:\n",
    "![Roman Filtering](06-Stu_Popular_Roman_Gods/Images/roman_filter.png)\n",
    "## Hint\n",
    "Open the console to see the dataset stored in the variable `data`.\n",
    "## Reference\n",
    "Search results retrieved on December 1, 2021 from https://www.google.com.\n",
    "\n",
    "---\n"
   ]
  },
  {
   "cell_type": "markdown",
   "metadata": {
    "tags": []
   },
   "source": [
    "```js\n",
    "console.log(searchResults);\n",
    "\n",
    "// Create a custom function to return Roman gods with more than 1 million search results\n",
    "function popular(roman) {\n",
    "  return roman.romanSearchResults > 1000000;\n",
    "}\n",
    "\n",
    "// Call the custom function with filter()\n",
    "let popularRomans = searchResults.filter(popular);\n",
    "\n",
    "// Trace for the Roman Data\n",
    "let trace1 = {\n",
    "    x: popularRomans.map(row => row.romanName),\n",
    "    y: popularRomans.map(row => row.romanSearchResults),\n",
    "    type: \"bar\"\n",
    "};\n",
    "\n",
    "// Data trace array\n",
    "let data = [trace1];\n",
    "\n",
    "// Apply a title to the layout\n",
    "let layout = {\n",
    "  title: \"Popular Roman gods search results\"\n",
    "};\n",
    "\n",
    "// Render the plot to the div tag with id \"plot\"\n",
    "Plotly.newPlot(\"plot\", data, layout);\n",
    "\n",
    "```"
   ]
  },
  {
   "cell_type": "markdown",
   "metadata": {},
   "source": [
    "# =========================================="
   ]
  },
  {
   "cell_type": "markdown",
   "metadata": {},
   "source": [
    "### BREAK (0:10)"
   ]
  },
  {
   "cell_type": "markdown",
   "metadata": {},
   "source": [
    "# =========================================="
   ]
  },
  {
   "cell_type": "markdown",
   "metadata": {},
   "source": [
    "### 1.07 Instructor Do: Sorting and Slicing Methods (15 min)"
   ]
  },
  {
   "cell_type": "markdown",
   "metadata": {},
   "source": []
  },
  {
   "cell_type": "markdown",
   "metadata": {
    "tags": []
   },
   "source": [
    "---\n",
    "### sorting.js\n",
    "```js\n",
    "// Sort the array in descending order\n",
    "let numArray = [1, 2, 3];\n",
    "numArray.sort(function compareFunction(firstNum, secondNum) {\n",
    "  // resulting order is (3, 2, 1)\n",
    "  return secondNum - firstNum;\n",
    "});\n",
    "\n",
    "// Returns [3, 2, 1]\n",
    "console.log(numArray);\n",
    "\n",
    "// Sort the array in ascending order\n",
    "let numArray2 = [3, 2, 1];\n",
    "numArray2.sort(function compareFunction(firstNum, secondNum) {\n",
    "  // resulting order is (1, 2, 3)\n",
    "  return firstNum - secondNum;\n",
    "});\n",
    "\n",
    "// Returns [1, 2, 3]\n",
    "console.log(numArray2);\n",
    "\n",
    "// Sort the array in ascending order, using an arrow function\n",
    "let numArray3 = [3, 2, 1];\n",
    "numArray3.sort((firstNum, secondNum) => firstNum - secondNum);\n",
    "console.log(numArray3);\n",
    "\n",
    "// Reverse the array\n",
    "let numArray4 = [1, 2, 3];\n",
    "numArray4.reverse()\n",
    "console.log(numArray4);\n",
    "\n",
    "```"
   ]
  },
  {
   "cell_type": "markdown",
   "metadata": {
    "tags": []
   },
   "source": [
    "---\n",
    "### slicing.js\n",
    "```js\n",
    "// Array of names\n",
    "let names = [\"Jane\", \"John\", \"Jimbo\", \"Jedediah\"];\n",
    "\n",
    "// Slice the first two names\n",
    "let left = names.slice(0, 2);\n",
    "// Returns elements at index position 0 and 1, but not 2.\n",
    "console.log(left);\n",
    "\n",
    "// Slice the last two names\n",
    "let right = names.slice(2, 4);\n",
    "// Returns elements at index position 2 and 3, but not 4.\n",
    "console.log(right);\n",
    "\n",
    "```"
   ]
  },
  {
   "cell_type": "markdown",
   "metadata": {},
   "source": [
    "# =========================================="
   ]
  },
  {
   "cell_type": "markdown",
   "metadata": {},
   "source": [
    "### 1.08 Students Do: Sorting and Slicing (15 min)"
   ]
  },
  {
   "cell_type": "markdown",
   "metadata": {},
   "source": [
    "# Sorting and Slicing\n",
    "In this activity you will sort, slice, and reverse the following array:\n",
    "```javascript\n",
    "numArray = [9.9, 6.1, 17.1, 22.7, 4.6, 8.7, 7.2];\n",
    "```\n",
    "## Instructions\n",
    "* Use the starter files `index.html` and `sliceSort.js` provided in the [Unsolved](Unsolved) folder.\n",
    "* Sort the array in descending order and assign the results to a variable.\n",
    "* Sort the array in ascending order using an arrow function.\n",
    "* Slice the first five elements of the sorted ascending array and assign them to a variable.\n",
    "* Reverse the array order.\n",
    "\n",
    "---"
   ]
  },
  {
   "cell_type": "markdown",
   "metadata": {
    "jp-MarkdownHeadingCollapsed": true,
    "tags": []
   },
   "source": [
    "```js\n",
    "// An unsorted array\n",
    "let numArray = [9.9, 6.1, 17.1, 22.7, 4.6, 8.7, 7.2];\n",
    "\n",
    "// Sort the array in descending order and assign the results to a variable\n",
    "let sorted = numArray.sort(function sortFunction(a, b) {\n",
    "  return b - a;\n",
    "});\n",
    "console.log(sorted);\n",
    "\n",
    "// Reverse the array order\n",
    "sorted.reverse();\n",
    "console.log(sorted);\n",
    "\n",
    "// Slice the first five elements of the sorted array and assign to a variable\n",
    "let sliced = sorted.slice(0, 5);\n",
    "console.log(sliced);\n",
    "\n",
    "```"
   ]
  },
  {
   "cell_type": "markdown",
   "metadata": {},
   "source": [
    "# =========================================="
   ]
  },
  {
   "cell_type": "markdown",
   "metadata": {},
   "source": [
    "### 1.09 Students Do: Sorting and Slicing with Plotly (15 min)"
   ]
  },
  {
   "cell_type": "markdown",
   "metadata": {},
   "source": [
    "# Sorting and Slicing with Plotly\n",
    "\n",
    "In this activity, you will sort, slice, and reverse the [data.js](Unsolved/data.js) dataset to build a horizontal bar chart of the top 10 Greek god search results.\n",
    "\n",
    "## Instructions\n",
    "\n",
    "* You may use the starter files `index.html` and `plots.js` provided in the [Unsolved](Unsolved) folder.\n",
    "\n",
    "* Sort the data by Greek search results in descending order.\n",
    "\n",
    "* Slice the first 10 objects of the array for the plot.\n",
    "\n",
    "* Reverse the array to compensate for Plotly's horizontal bar chart defaults.\n",
    "\n",
    "* Create a Plotly bar chart with names on the x-axis and search results on the y-axis. For example:\n",
    "\n",
    "![Greek Top Ten](09-Stu_Top_Ten_Greek_Gods/Images/greek_top_ten.png)\n",
    "\n",
    "## Hint\n",
    "\n",
    "Review the [Plotly documentation](https://plotly.com/javascript/horizontal-bar-charts/) to research how to make a bar chart horizontal.\n",
    "\n",
    "## Reference\n",
    "\n",
    "Search results retrieved on December 1, 2021 from https://www.google.com.\n",
    "\n",
    "---"
   ]
  },
  {
   "cell_type": "markdown",
   "metadata": {
    "tags": []
   },
   "source": [
    "```js\n",
    "// Sort the data by Greek search results descending\n",
    "let sortedByGreekSearch = searchResults.sort((a, b) => b.greekSearchResults - a.greekSearchResults);\n",
    "\n",
    "// Slice the first 10 objects for plotting\n",
    "let slicedData = sortedByGreekSearch.slice(0, 10);\n",
    "\n",
    "// Reverse the array to accommodate Plotly's defaults\n",
    "slicedData.reverse();\n",
    "\n",
    "// Trace1 for the Greek Data\n",
    "let trace1 = {\n",
    "  x: slicedData.map(object => object.greekSearchResults),\n",
    "  y: slicedData.map(object => object.greekName),\n",
    "  text: slicedData.map(object => object.greekName),\n",
    "  name: \"Greek\",\n",
    "  type: \"bar\",\n",
    "  orientation: \"h\"\n",
    "};\n",
    "\n",
    "// Data array\n",
    "let data = [trace1];\n",
    "\n",
    "// Apply a title to the layout\n",
    "let layout = {\n",
    "  title: \"Greek gods search results\",\n",
    "  margin: {\n",
    "    l: 100,\n",
    "    r: 100,\n",
    "    t: 100,\n",
    "    b: 100\n",
    "  }\n",
    "};\n",
    "\n",
    "// Render the plot to the div tag with id \"plot\"\n",
    "Plotly.newPlot(\"plot\", data, layout);\n",
    "\n",
    "\n",
    "```"
   ]
  },
  {
   "cell_type": "markdown",
   "metadata": {},
   "source": [
    "# =========================================="
   ]
  },
  {
   "cell_type": "markdown",
   "metadata": {},
   "source": [
    "### Rating Class Objectives\n",
    "\n",
    "* rate your understanding using 1-5 method in each objective"
   ]
  },
  {
   "cell_type": "code",
   "execution_count": null,
   "metadata": {},
   "outputs": [],
   "source": [
    "title = \"14.2-Interactive-Visualizations-Functional Programing for Data Processing\"\n",
    "objectives = [\n",
    "    \"Apply the map() method and filter to parse data\",\n",
    "    \"Create and use arrow functions to simplify code\",\n",
    "    \"Use the filter() and arrow functions to manipulate and filter datasets\",\n",
    "    \"Use ES6 JavaScript methods\"\n",
    "]\n",
    "rating = []\n",
    "total = 0\n",
    "for i in range(len(objectives)):\n",
    "    rate = input(objectives[i]+\"? \")\n",
    "    total += int(rate)\n",
    "    rating.append(objectives[i] + \". (\" + rate + \"/5)\")\n",
    "print(\"=\"*96)\n",
    "print(f\"Self Evaluation for: {title}\")\n",
    "print(\"-\"*24)\n",
    "for i in rating:\n",
    "    print(i)\n",
    "print(\"-\"*64)\n",
    "print(\"Average: \" + str(total/len(objectives)))"
   ]
  }
 ],
 "metadata": {
  "kernelspec": {
   "display_name": "Python [conda env:PythonData]",
   "language": "python",
   "name": "conda-env-PythonData-py"
  },
  "language_info": {
   "codemirror_mode": {
    "name": "ipython",
    "version": 3
   },
   "file_extension": ".py",
   "mimetype": "text/x-python",
   "name": "python",
   "nbconvert_exporter": "python",
   "pygments_lexer": "ipython3",
   "version": "3.7.16"
  }
 },
 "nbformat": 4,
 "nbformat_minor": 4
}
