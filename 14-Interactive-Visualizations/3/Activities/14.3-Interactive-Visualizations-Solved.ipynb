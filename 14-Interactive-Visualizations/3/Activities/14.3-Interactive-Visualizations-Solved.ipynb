{
 "cells": [
  {
   "cell_type": "markdown",
   "metadata": {},
   "source": [
    "**2023-03-16 `14.3-Interactive-Visualizations-JavaScript with D3.js`**"
   ]
  },
  {
   "cell_type": "markdown",
   "metadata": {},
   "source": [
    "JavaScript day 2 complete!  Today we begin talking about the DOM, D3 and events.\n",
    "\n",
    "All 3 of these will be very clear by the end of class and all 3 are necessary to understand how to interact with a user in a web-page.\n",
    "\n",
    "Looking forward to showing all of you this content."
   ]
  },
  {
   "cell_type": "markdown",
   "metadata": {},
   "source": [
    "**Objectives**\n",
    "\n",
    "* Create charts by using data from API calls.\n",
    "* Use D3 for basic document object model (DOM) manipulation and event handling.\n",
    "* Apply the `this` keyword to reference elements within a function.\n",
    "* Dynamically manipulate the DOM through events.\n",
    "* Manipulate charts through dropdown events and click events.\n",
    "* Use `Plotly.restyle()` to create dynamic charts."
   ]
  },
  {
   "cell_type": "markdown",
   "metadata": {},
   "source": [
    "**Presentation**\n",
    "* [14.3-JavaScript with D3.js](https://ucb.bootcampcontent.com/UCB-Coding-Bootcamp/UCB-VIRT-DATA-PT-11-2022-U-LOLC/-/blob/main/slides/Data-14.3-JavaScript_with_D3.js.pdf)\n"
   ]
  },
  {
   "cell_type": "markdown",
   "metadata": {},
   "source": [
    "**Resources**\n",
    "\n",
    "* [D3 explanation](https://www.tutorialsteacher.com/d3js/what-is-d3js)\n",
    "* [What is the DOM](https://www.w3schools.com/js/js_htmldom.asp)\n",
    "* [Events explained](https://www.w3schools.com/js/js_htmldom_events.asp)\n",
    "* [d3 event listeners](https://www.tutorialsteacher.com/d3js/event-handling-in-d3js)\n",
    "* [My Favorite Event example](https://clickclickclick.click/)"
   ]
  },
  {
   "cell_type": "markdown",
   "metadata": {},
   "source": [
    "# =========================================="
   ]
  },
  {
   "cell_type": "markdown",
   "metadata": {},
   "source": [
    "### 1.01 Instructor Do: D3.json (15 min)"
   ]
  },
  {
   "cell_type": "markdown",
   "metadata": {
    "tags": []
   },
   "source": [
    "```js\n",
    "const url = \"https://api.spacexdata.com/v4/launchpads\";\n",
    "\n",
    "// Promise Pending\n",
    "const dataPromise = d3.json(url);\n",
    "console.log(\"Data Promise: \", dataPromise);\n",
    "\n",
    "// Fetch the JSON data and console log it\n",
    "d3.json(url).then(function(data) {\n",
    "  console.log(data);\n",
    "});\n",
    "```"
   ]
  },
  {
   "cell_type": "markdown",
   "metadata": {},
   "source": [
    "# =========================================="
   ]
  },
  {
   "cell_type": "markdown",
   "metadata": {},
   "source": [
    "### 1.02 Students Do: D3.json (15 min)"
   ]
  },
  {
   "cell_type": "markdown",
   "metadata": {},
   "source": [
    "In this activity, you will use D3.json to make API calls to SpaceX.\n",
    "## Instructions\n",
    "* You may use the starter files `index.html` and `demo.js` provided in the [Unsolved](Unsolved) folder.\n",
    "* Use D3.json to make an API call and return the following:\n",
    "  * Current information regarding the Roadster.\n",
    "  * Information regarding all capsules.\n",
    "## Hint\n",
    "Review the [SpaceX API Docs](https://github.com/r-spacex/SpaceX-API/tree/master/docs#rspacex-api-docs).\n",
    "\n",
    "---\n"
   ]
  },
  {
   "cell_type": "markdown",
   "metadata": {},
   "source": [
    "```js\n",
    "// Get the Roadster endpoint\n",
    "const roadster = \"https://api.spacexdata.com/v4/roadster\";\n",
    "\n",
    "// Fetch the JSON data and console log it\n",
    "d3.json(roadster).then(function(data) {\n",
    "  console.log(data);\n",
    "});\n",
    "\n",
    "// Get the capsules endpoint\n",
    "const capsules = \"https://api.spacexdata.com/v4/capsules\";\n",
    "\n",
    "// Fetch the JSON data and console log it\n",
    "d3.json(capsules).then(function(data) {\n",
    "  console.log(data);\n",
    "});\n",
    "\n",
    "```"
   ]
  },
  {
   "cell_type": "markdown",
   "metadata": {},
   "source": [
    "# =========================================="
   ]
  },
  {
   "cell_type": "markdown",
   "metadata": {},
   "source": [
    "### 1.03 Instructor Do: D3 Select & Append (15 min)"
   ]
  },
  {
   "cell_type": "markdown",
   "metadata": {
    "tags": []
   },
   "source": [
    "```js\n",
    "// Select the text of an HTML element\n",
    "let text1 = d3.select(\".text1\").text();\n",
    "console.log(\"text1 says: \", text1);\n",
    "\n",
    "let text2 = d3.select(\"#text2\").text();\n",
    "console.log(\"text2 says: \", text2);\n",
    "\n",
    "// Modify the text of an HTML element\n",
    "d3.select(\".text1\").text(\"Hey, I changed this!\");\n",
    "\n",
    "// Capture the HTML of a selection\n",
    "let myLink = d3.select(\".my-link\").html();\n",
    "console.log(\"my-link: \", myLink);\n",
    "\n",
    "// Select an element's child element\n",
    "// An object is returned\n",
    "let myLinkAnchor = d3.select(\".my-link>a\");\n",
    "console.log(myLinkAnchor);\n",
    "\n",
    "// Capture the child element's href attribute\n",
    "let myLinkAnchorAttribute = myLinkAnchor.attr(\"href\");\n",
    "console.log(\"myLinkAnchorAttribute: \" + myLinkAnchorAttribute);\n",
    "\n",
    "// Change an element's attribute\n",
    "myLinkAnchor.attr(\"href\", \"https://python.org\");\n",
    "\n",
    "// Use chaining to join methods\n",
    "d3.select(\".my-link>a\").attr(\"href\", \"https://nytimes.com\").text(\"Now this is a link to the NYT!!\");\n",
    "\n",
    "// Select all list items, then change their font color\n",
    "d3.selectAll(\"li\").style(\"color\", \"blue\");\n",
    "\n",
    "// Create a new element\n",
    "let li1 = d3.select(\"ul\").append(\"li\");\n",
    "li1.text(\"A new item has been added!\");\n",
    "\n",
    "// Use chaining to create a new element and set its text\n",
    "let li2 = d3.select(\"ul\").append(\"li\").text(\"Another new item!\");\n",
    "```"
   ]
  },
  {
   "cell_type": "markdown",
   "metadata": {},
   "source": [
    "# =========================================="
   ]
  },
  {
   "cell_type": "markdown",
   "metadata": {},
   "source": [
    "### 1.04 Students Do: D3 Select (15 min)"
   ]
  },
  {
   "cell_type": "markdown",
   "metadata": {},
   "source": [
    "# D3 Select\n",
    "\n",
    "In this activity, you will use D3 to add a new row of data to a table.\n",
    "\n",
    "## Instructions\n",
    "\n",
    "* You may use the starter files `index.html` and `static/js/app.js` provided in the [Unsolved](Unsolved) folder.\n",
    "\n",
    "* Use D3 to:\n",
    "\n",
    "  * Convert the Bootstrap table into a striped table.\n",
    "\n",
    "  * Select the table body and append a new row and cells for the new student name and grade.\n",
    "\n",
    "## Hint\n",
    "\n",
    "Review [Bootstrap Striped Tables](http://getbootstrap.com/docs/3.3/css/#tables-striped).\n",
    "\n",
    "---"
   ]
  },
  {
   "cell_type": "markdown",
   "metadata": {
    "tags": []
   },
   "source": [
    "```js\n",
    "// The new student and grade to add to the table\n",
    "let newGrade = [\"Wash\", 79];\n",
    "\n",
    "// Use D3 to select the table\n",
    "let table = d3.select(\"table\");\n",
    "\n",
    "// Use d3 to create a bootstrap striped table\n",
    "// http://getbootstrap.com/docs/3.3/css/#tables-striped\n",
    "table.attr(\"class\", \"table table-striped\");\n",
    "\n",
    "// Use D3 to select the table body\n",
    "let tbody = d3.select(\"tbody\");\n",
    "\n",
    "// Append one table row `tr` to the table body\n",
    "let row = tbody.append(\"tr\");\n",
    "\n",
    "// Append one cell for the student name\n",
    "row.append(\"td\").text(newGrade[0]);\n",
    "\n",
    "// Append one cell for the student grade\n",
    "row.append(\"td\").text(newGrade[1]);\n",
    "\n",
    "```"
   ]
  },
  {
   "cell_type": "markdown",
   "metadata": {},
   "source": [
    "# =========================================="
   ]
  },
  {
   "cell_type": "markdown",
   "metadata": {},
   "source": [
    "### 1.05 Instructor Do: D3 Event Listeners (15 min)"
   ]
  },
  {
   "cell_type": "markdown",
   "metadata": {},
   "source": []
  },
  {
   "cell_type": "markdown",
   "metadata": {
    "tags": []
   },
   "source": [
    "\n",
    "```js\n",
    "// Getting a reference to the button on the page with the id property set to `click-me`\n",
    "let button = d3.select(\"#click-me\");\n",
    "\n",
    "// Getting a reference to the input element on the page with the id property set to 'input-field'\n",
    "let inputField = d3.select(\"#input-field\");\n",
    "\n",
    "// This function is triggered when the button is clicked\n",
    "function handleClick() {\n",
    "  console.log(\"A button was clicked!\");\n",
    "\n",
    "  // We can use d3 to see the object that dispatched the event\n",
    "  console.log(d3.event.target);\n",
    "}\n",
    "\n",
    "// We can use the `on` function in d3 to attach an event to the handler function\n",
    "button.on(\"click\", handleClick);\n",
    "\n",
    "// You can also define the click handler inline\n",
    "button.on(\"click\", function() {\n",
    "  console.log(\"Hi, a button was clicked!\");\n",
    "  console.log(d3.event.target);\n",
    "});\n",
    "\n",
    "// Event handlers are just normal functions that can do anything you want\n",
    "button.on(\"click\", function() {\n",
    "  // Image reference source: https://en.wikipedia.org/wiki/Space_telescope#/media/File:HST-SM4.jpeg\n",
    "  // The Hubble Space Telescope as seen from the departing Space Shuttle Atlantis, flying STS-125, HST Servicing Mission 4.\n",
    "  // Wikipedia/Public Domain\n",
    "  d3.select(\".wiki-me\").html(\"<img src='https://upload.wikimedia.org/wikipedia/commons/thumb/3/3f/HST-SM4.jpeg/440px-HST-SM4.jpeg' alt='space telescope'>\");\n",
    "});\n",
    "\n",
    "// Input fields can trigger a change event when new text is entered.\n",
    "inputField.on(\"change\", function() {\n",
    "  let newText = d3.event.target.value;\n",
    "  console.log(newText);\n",
    "});\n",
    "\n",
    "```"
   ]
  },
  {
   "cell_type": "markdown",
   "metadata": {},
   "source": [
    "# =========================================="
   ]
  },
  {
   "cell_type": "markdown",
   "metadata": {},
   "source": [
    "### 1.06 Students Do: Button Clicks (15 min)"
   ]
  },
  {
   "cell_type": "markdown",
   "metadata": {},
   "source": [
    "# Vote Star Wars\n",
    "\n",
    "In this activity, you will use D3 to create click handlers for upvotes and downvotes.\n",
    "\n",
    "## Instructions\n",
    "\n",
    "* Use the starter files `index.html`, `static/js/app.js`, and `static/css/style.css` provided in the [Unsolved](Unsolved) folder.\n",
    "\n",
    "* Use D3 to select the `upvote` and `downvote` buttons on the page.\n",
    "\n",
    "* Create click handlers for the upvote and downvote buttons.\n",
    "\n",
    "* The click handlers should do the following:\n",
    "\n",
    "  * Select the current vote count from the `<h3>` tag.\n",
    "  * Increment or decrement the count depending on which button was selected.\n",
    "  * Update the vote count `<h3>` tag using D3.\n",
    "\n",
    "## Bonus\n",
    "\n",
    "* Use an array to save information about each vote:\n",
    "\n",
    "  * Store whether it was an upvote or downvote.\n",
    "  * Store the current count at each click.\n",
    "  * Use an array of arrays or an array of objects to store the data.\n",
    "\n",
    "## Hint\n",
    "\n",
    "* Don't forget to use the `.on` function to attach the click handlers to the buttons.\n",
    "\n",
    "* You will need one click handler for each button.\n",
    "\n",
    "* In Python, you can convert a number in string format into a numeric format using `int()`. In JavaScript, you perform the same operation with the `parseInt()` method. You will need to use `parseInt()` to convert the `<h3>` vote count to a number before you can add or subtract from it.\n",
    "\n",
    "* Review the [JavaScript parseInt() documentation](https://developer.mozilla.org/en-US/docs/Web/JavaScript/Reference/Global_Objects/parseInt).\n",
    "\n",
    "---"
   ]
  },
  {
   "cell_type": "markdown",
   "metadata": {
    "tags": []
   },
   "source": [
    "```js\n",
    "// Randomly select an episode number for Star Wars\n",
    "let text = d3.select(\".star-wars\")\n",
    "  .text(Math.floor(Math.random() * 9) + 1);\n",
    "\n",
    "// Select the upvote and downvote buttons\n",
    "let upvote = d3.select(\".upvote\");\n",
    "let downvote = d3.select(\".downvote\");\n",
    "\n",
    "// Select the counter h3 element\n",
    "let counter = d3.select(\".counter\");\n",
    "\n",
    "// Use D3 `.on` to attach a click handler for the upvote\n",
    "upvote.on(\"click\", function() {\n",
    "  // Select the current count\n",
    "  let currentCount = parseInt(counter.text());\n",
    "\n",
    "  // Upvotes should increment the counter\n",
    "  currentCount += 1;\n",
    "\n",
    "  // Set the counter h3 text to the new count\n",
    "  counter.text(currentCount);\n",
    "});\n",
    "\n",
    "// Use d3 `.on` to attach a click handler for the downvote\n",
    "downvote.on(\"click\", function() {\n",
    "  // Select the current count\n",
    "  let currentCount = parseInt(counter.text());\n",
    "\n",
    "  // Downvotes should decrement the counter\n",
    "  currentCount -= 1;\n",
    "\n",
    "  // Set the counter h3 text to the new count\n",
    "  counter.text(currentCount);\n",
    "});\n",
    "\n",
    "```"
   ]
  },
  {
   "cell_type": "markdown",
   "metadata": {},
   "source": [
    "## Bonus\n",
    "```js\n",
    "// Store the vote data in an array\n",
    "let data = [];\n",
    "\n",
    "// Randomly select an episode number for Star Wars\n",
    "let text = d3.select(\".star-wars\")\n",
    "  .text(Math.floor(Math.random() * 9) + 1);\n",
    "\n",
    "// Select the upvote and downvote buttons\n",
    "let upvote = d3.select(\".upvote\");\n",
    "let downvote = d3.select(\".downvote\");\n",
    "\n",
    "// Select the counter h1 element\n",
    "let counter = d3.select(\".counter\");\n",
    "\n",
    "// Use D3 `.on` to attach a click handler for the upvote\n",
    "upvote.on(\"click\", function() {\n",
    "  // Select the current count\n",
    "  let currentCount = parseInt(counter.text());\n",
    "\n",
    "  // Upvotes should increment the counter\n",
    "  currentCount += 1;\n",
    "\n",
    "  // Set the counter h1 text to the new count\n",
    "  counter.text(currentCount);\n",
    "\n",
    "  // BONUS: Save the vote data\n",
    "  data.push([\"upvote\", currentCount]);\n",
    "});\n",
    "\n",
    "// Use d3 `.on` to attach a click handler for the downvote\n",
    "downvote.on(\"click\", function() {\n",
    "  // Select the current count\n",
    "  let currentCount = parseInt(counter.text());\n",
    "\n",
    "  // Downvotes should decrement the counter\n",
    "  currentCount -= 1;\n",
    "\n",
    "  // Set the counter h1 text to the new count\n",
    "  counter.text(currentCount);\n",
    "\n",
    "  // BONUS: Save the vote data\n",
    "  data.push([\"upvote\", currentCount]);\n",
    "});\n",
    "\n",
    "```"
   ]
  },
  {
   "cell_type": "markdown",
   "metadata": {},
   "source": [
    "# =========================================="
   ]
  },
  {
   "cell_type": "markdown",
   "metadata": {},
   "source": [
    "### BREAK (0:10)"
   ]
  },
  {
   "cell_type": "markdown",
   "metadata": {},
   "source": [
    "# =========================================="
   ]
  },
  {
   "cell_type": "markdown",
   "metadata": {},
   "source": [
    "### 1.07 Instructor Do: Introducing this (15 min)"
   ]
  },
  {
   "cell_type": "markdown",
   "metadata": {},
   "source": []
  },
  {
   "cell_type": "markdown",
   "metadata": {
    "tags": []
   },
   "source": [
    "```js\n",
    "d3.selectAll(\"button\").on(\"click\", function() {\n",
    "  // What will be logged out? What is `this` in this case?\n",
    "  console.log(this);\n",
    "  // Answer: It will console log the `button` element.\n",
    "});\n",
    "\n",
    "d3.selectAll(\"li\").on(\"click\", function() {\n",
    "  // you can select the element just like any other selection\n",
    "  let listItem = d3.select(this);\n",
    "  listItem.style(\"color\", \"blue\");\n",
    "\n",
    "  let listItemText = listItem.text();\n",
    "  console.log(listItemText);\n",
    "});\n",
    "\n",
    "```"
   ]
  },
  {
   "cell_type": "markdown",
   "metadata": {},
   "source": [
    "# =========================================="
   ]
  },
  {
   "cell_type": "markdown",
   "metadata": {},
   "source": [
    "### 1.08 Students Do: this Button (15 min)"
   ]
  },
  {
   "cell_type": "markdown",
   "metadata": {},
   "source": [
    "# Vote Star Wars\n",
    "\n",
    "In this activity, you will use D3 and the `this` keyword to create a single-click handler for upvotes and downvotes.\n",
    "\n",
    "## Instructions\n",
    "\n",
    "Use the starter files `index.html`, `static/js/app.js`, and `static/css/style.css` provided in the [Unsolved](Unsolved) folder, and do the following:\n",
    "\n",
    "* Use D3 to select both the `upvote` and `downvote` buttons on the page in a single D3 object.\n",
    "\n",
    "* Make sure the click handler does the following:\n",
    "  * Select the current vote count from the `<h3>` tag.\n",
    "\n",
    "  * Use the `this` keyword to reference the correct button in order to utilize that button’s `value` attribute.\n",
    "\n",
    "  * Increment or decrement the count, using the button’s `value` attribute.\n",
    "\n",
    "  * Update the vote count `<h3>` tag using D3.\n",
    "\n",
    "## Hints\n",
    "\n",
    "* Don't forget to use the `.on` function to attach the click handler to the buttons.\n",
    "\n",
    "* Check the `value` attribute on the buttons in the `index.html` file to decide how you might use the value.\n",
    "\n",
    "* You will need to use `parseInt` to convert the `<h3>` vote count to a number before you can add or subtract from it.\n",
    "\n",
    "---"
   ]
  },
  {
   "cell_type": "markdown",
   "metadata": {
    "tags": []
   },
   "source": [
    "```js\n",
    "// Randomly select an episode number for Star Wars\n",
    "let text = d3.select(\".star-wars\")\n",
    "  .text(Math.floor(Math.random() * 9) + 1);\n",
    "\n",
    "// Select the counter h3 element\n",
    "let counter = d3.select(\".counter\");\n",
    "\n",
    "// Select the buttons and use D3 `.on` to attach a click handler\n",
    "d3.selectAll(\"button\").on(\"click\", function() {\n",
    "\n",
    "  // Create a variable for the button selected\n",
    "  let button = d3.select(this);\n",
    "\n",
    "  // Create a varaible to hold the increment or decrement\n",
    "  let vote = parseInt(button.attr('value'))\n",
    "\n",
    "  // Create a variable to hold the current counter value\n",
    "  let currentCount = parseInt(counter.text())\n",
    "\n",
    "  // Update the counter value\n",
    "  currentCount += vote;\n",
    "\n",
    "  // Set the counter h3 text to the new count\n",
    "  counter.text(currentCount);\n",
    "\n",
    "});\n",
    "```"
   ]
  },
  {
   "cell_type": "markdown",
   "metadata": {},
   "source": [
    "## Bonus\n",
    "```js\n",
    "// Store the vote data in an array\n",
    "let data = [];\n",
    "\n",
    "// Randomly select an episode number for Star Wars\n",
    "let text = d3.select(\".star-wars\")\n",
    "  .text(Math.floor(Math.random() * 9) + 1);\n",
    "\n",
    "// Select the upvote and downvote buttons\n",
    "let upvote = d3.select(\".upvote\");\n",
    "let downvote = d3.select(\".downvote\");\n",
    "\n",
    "// Select the counter h1 element\n",
    "let counter = d3.select(\".counter\");\n",
    "\n",
    "// Use D3 `.on` to attach a click handler for the upvote\n",
    "upvote.on(\"click\", function() {\n",
    "  // Select the current count\n",
    "  let currentCount = parseInt(counter.text());\n",
    "\n",
    "  // Upvotes should increment the counter\n",
    "  currentCount += 1;\n",
    "\n",
    "  // Set the counter h1 text to the new count\n",
    "  counter.text(currentCount);\n",
    "\n",
    "  // BONUS: Save the vote data\n",
    "  data.push([\"upvote\", currentCount]);\n",
    "});\n",
    "\n",
    "// Use d3 `.on` to attach a click handler for the downvote\n",
    "downvote.on(\"click\", function() {\n",
    "  // Select the current count\n",
    "  let currentCount = parseInt(counter.text());\n",
    "\n",
    "  // Downvotes should decrement the counter\n",
    "  currentCount -= 1;\n",
    "\n",
    "  // Set the counter h1 text to the new count\n",
    "  counter.text(currentCount);\n",
    "\n",
    "  // BONUS: Save the vote data\n",
    "  data.push([\"upvote\", currentCount]);\n",
    "});\n",
    "\n",
    "```"
   ]
  },
  {
   "cell_type": "markdown",
   "metadata": {},
   "source": [
    "# =========================================="
   ]
  },
  {
   "cell_type": "markdown",
   "metadata": {},
   "source": [
    "### 1.09 Instructor Do: Dropdown Events and Plotly (15 min)"
   ]
  },
  {
   "cell_type": "markdown",
   "metadata": {},
   "source": []
  },
  {
   "cell_type": "markdown",
   "metadata": {
    "tags": []
   },
   "source": [
    "```js\n",
    "// Initializes the page with a default plot\n",
    "function init() {\n",
    "  data = [{\n",
    "    x: [1, 2, 3, 4, 5],\n",
    "    y: [1, 2, 4, 8, 16] }];\n",
    "\n",
    "  Plotly.newPlot(\"plot\", data);\n",
    "}\n",
    "\n",
    "// Call updatePlotly() when a change takes place to the DOM\n",
    "d3.selectAll(\"#selDataset\").on(\"change\", updatePlotly);\n",
    "\n",
    "// This function is called when a dropdown menu item is selected\n",
    "function updatePlotly() {\n",
    "  // Use D3 to select the dropdown menu\n",
    "  let dropdownMenu = d3.select(\"#selDataset\");\n",
    "  // Assign the value of the dropdown menu option to a variable\n",
    "  let dataset = dropdownMenu.property(\"value\");\n",
    "\n",
    "  // Initialize x and y arrays\n",
    "  let x = [];\n",
    "  let y = [];\n",
    "\n",
    "  if (dataset === 'dataset1') {\n",
    "    x = [1, 2, 3, 4, 5];\n",
    "    y = [1, 2, 4, 8, 16];\n",
    "  }\n",
    "\n",
    "  else if (dataset === 'dataset2') {\n",
    "    x = [10, 20, 30, 40, 50];\n",
    "    y = [1, 10, 100, 1000, 10000];\n",
    "  }\n",
    "\n",
    "  // Note the extra brackets around 'x' and 'y'\n",
    "  Plotly.restyle(\"plot\", \"x\", [x]);\n",
    "  Plotly.restyle(\"plot\", \"y\", [y]);\n",
    "}\n",
    "\n",
    "init();\n",
    "```"
   ]
  },
  {
   "cell_type": "markdown",
   "metadata": {},
   "source": [
    "# =========================================="
   ]
  },
  {
   "cell_type": "markdown",
   "metadata": {},
   "source": [
    "### 1.10 Students Do: Government Expenditure (15 min)"
   ]
  },
  {
   "cell_type": "markdown",
   "metadata": {},
   "source": [
    "# Government Expenditure\n",
    "\n",
    "In this activity, you will create a dynamic pie chart using Plotly that displays 2017 data on select categories of government spending.\n",
    "\n",
    "## Instructions\n",
    "\n",
    "* You may use the starter files `index.html` and `plots.js` provided in the [Unsolved](10-Stu_Event_Final/Unsolved) folder.\n",
    "\n",
    "* Using the data in `data.js`, create a pie chart that meets the following criteria:\n",
    "\n",
    "  * Displays a default dataset.\n",
    "\n",
    "  * Contains a dropdown menu listing six countries: Australia, Brazil, United Kingdom, Mexico, Singapore, and South Africa.\n",
    "\n",
    "  * When we select an option from the dropdown menu, our code should retyle the chart to reflect the new data.\n",
    "\n",
    "  * See the following image for reference.\n",
    "\n",
    "    ![Images/pie01.png](10-Stu_Event_Final/Images/pie01.png)\n",
    "\n",
    "## Hint\n",
    "\n",
    "* Log the provided variables to the console to determine their use in creating the trace object.\n",
    "\n",
    "* For information about creating pie charts with Plotly, refer to the [Plotly documentation](https://plotly.com/javascript/pie-charts/).\n",
    "\n",
    "## References\n",
    "\n",
    "World Bank national accounts data, and OECD National Accounts data files (2021). General government final consumption expenditure (% of GDP). https://data.worldbank.org/indicator/NE.CON.GOVT.ZS\n",
    "\n",
    "World Health Organization Global Health Expenditure database (apps.who.int/nha/database) via The World Bank (2021). Domestic general government health expenditure (% of GDP). https://data.worldbank.org/indicator/SH.XPD.GHED.GD.ZS\n",
    "\n",
    "UNESCO Institute for Statistics (uis.unesco.org) via The World Bank (2021). Government expenditure on education, total (% of GDP). https://data.worldbank.org/indicator/SE.XPD.TOTL.GD.ZS\n",
    "\n",
    "UNESCO Institute for Statistics (uis.unesco.org) via The World Bank (2021). Research and development expenditure. https://data.worldbank.org/indicator/GB.XPD.RSDV.GD.ZS\n",
    "\n",
    "World Bank national accounts data, and OECD National Accounts data files (2021). GDP (current US$). https://data.worldbank.org/indicator/NY.GDP.MKTP.CD\n",
    "\n",
    "\n",
    "---\n"
   ]
  },
  {
   "cell_type": "markdown",
   "metadata": {
    "tags": []
   },
   "source": [
    "```js\n",
    "// Create an array of each country's numbers\n",
    "let australia = Object.values(data.australia);\n",
    "let brazil = Object.values(data.brazil);\n",
    "let uk = Object.values(data.uk);\n",
    "let mexico = Object.values(data.mexico);\n",
    "let singapore = Object.values(data.singapore);\n",
    "let southAfrica = Object.values(data.southAfrica);\n",
    "\n",
    "// Create an array of category labels\n",
    "let labels = Object.keys(data.australia);\n",
    "\n",
    "// Display the default plot\n",
    "function init() {\n",
    "  let data = [{\n",
    "    values: australia,\n",
    "    labels: labels,\n",
    "    type: \"pie\"\n",
    "  }];\n",
    "\n",
    "  let layout = {\n",
    "    height: 600,\n",
    "    width: 800\n",
    "  };\n",
    "\n",
    "  Plotly.newPlot(\"pie\", data, layout);\n",
    "}\n",
    "\n",
    "// On change to the DOM, call getData()\n",
    "d3.selectAll(\"#selDataset\").on(\"change\", getData);\n",
    "\n",
    "// Function called by DOM changes\n",
    "function getData() {\n",
    "  let dropdownMenu = d3.select(\"#selDataset\");\n",
    "  // Assign the value of the dropdown menu option to a letiable\n",
    "  let dataset = dropdownMenu.property(\"value\");\n",
    "  // Initialize an empty array for the country's data\n",
    "  let data = [];\n",
    "\n",
    "  if (dataset == 'australia') {\n",
    "      data = australia;\n",
    "  }\n",
    "  else if (dataset == 'brazil') {\n",
    "      data = brazil;\n",
    "  }\n",
    "  else if (dataset == 'uk') {\n",
    "      data = uk;\n",
    "  }\n",
    "  else if (dataset == 'mexico') {\n",
    "    data = mexico;\n",
    "  }\n",
    "  else if (dataset == 'singapore') {\n",
    "      data = singapore;\n",
    "  }\n",
    "  else if (dataset == 'southAfrica') {\n",
    "    data = southAfrica;\n",
    "  }\n",
    "// Call function to update the chart\n",
    "  updatePlotly(data);\n",
    "}\n",
    "\n",
    "// Update the restyled plot's values\n",
    "function updatePlotly(newdata) {\n",
    "  Plotly.restyle(\"pie\", \"values\", [newdata]);\n",
    "}\n",
    "\n",
    "init();\n",
    "\n",
    "```"
   ]
  },
  {
   "cell_type": "markdown",
   "metadata": {},
   "source": [
    "# =========================================="
   ]
  },
  {
   "cell_type": "markdown",
   "metadata": {},
   "source": [
    "### Rating Class Objectives\n",
    "\n",
    "* rate your understanding using 1-5 method in each objective"
   ]
  },
  {
   "cell_type": "code",
   "execution_count": null,
   "metadata": {},
   "outputs": [],
   "source": [
    "title = \"14.3-Interactive-Visualizations - JavaScript with D3.js\"\n",
    "objectives = [\n",
    "    \"Create charts by using data from API calls\",\n",
    "    \"Use D3 for basic document object model (DOM) manipulation and event handling\",\n",
    "    \"Apply the this keyword to reference elements within a function\",\n",
    "    \"Dynamically manipulate the DOM through events\",\n",
    "    \"Manipulate charts through dropdown events and click events\",\n",
    "    \"Use Plotly.restyle() to create dynamic charts\",\n",
    "]\n",
    "rating = []\n",
    "total = 0\n",
    "for i in range(len(objectives)):\n",
    "    rate = input(objectives[i]+\"? \")\n",
    "    total += int(rate)\n",
    "    rating.append(objectives[i] + \". (\" + rate + \"/5)\")\n",
    "print(\"=\"*96)\n",
    "print(f\"Self Evaluation for: {title}\")\n",
    "print(\"-\"*24)\n",
    "for i in rating:\n",
    "    print(i)\n",
    "print(\"-\"*64)\n",
    "print(\"Average: \" + str(total/len(objectives)))"
   ]
  }
 ],
 "metadata": {
  "kernelspec": {
   "display_name": "Python [conda env:root] *",
   "language": "python",
   "name": "conda-root-py"
  },
  "language_info": {
   "codemirror_mode": {
    "name": "ipython",
    "version": 3
   },
   "file_extension": ".py",
   "mimetype": "text/x-python",
   "name": "python",
   "nbconvert_exporter": "python",
   "pygments_lexer": "ipython3",
   "version": "3.9.13"
  }
 },
 "nbformat": 4,
 "nbformat_minor": 4
}
